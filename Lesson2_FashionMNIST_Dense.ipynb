{
  "nbformat": 4,
  "nbformat_minor": 0,
  "metadata": {
    "colab": {
      "provenance": [],
      "gpuType": "T4",
      "include_colab_link": true
    },
    "kernelspec": {
      "name": "python3",
      "display_name": "Python 3"
    },
    "language_info": {
      "name": "python"
    },
    "accelerator": "GPU"
  },
  "cells": [
    {
      "cell_type": "markdown",
      "metadata": {
        "id": "view-in-github",
        "colab_type": "text"
      },
      "source": [
        "<a href=\"https://colab.research.google.com/github/marcekovam/Data_science_practicum_2025/blob/main/Lesson2_FashionMNIST_Dense.ipynb\" target=\"_parent\"><img src=\"https://colab.research.google.com/assets/colab-badge.svg\" alt=\"Open In Colab\"/></a>"
      ]
    },
    {
      "cell_type": "markdown",
      "source": [
        "Let's build a simple neural network to classify images from the FashionMNIST dataset.\n",
        "\n",
        "**1. Import Libraries**"
      ],
      "metadata": {
        "id": "B5j8Ih8JeWh8"
      }
    },
    {
      "cell_type": "code",
      "execution_count": null,
      "metadata": {
        "id": "MBQVdt1S-MT9"
      },
      "outputs": [],
      "source": [
        "import torch\n",
        "import torch.nn as nn # pytorch.nn won against tensorflow\n",
        "import torch.nn.functional as F\n",
        "import torch.optim as optim\n",
        "from torchvision import datasets, transforms"
      ]
    },
    {
      "cell_type": "markdown",
      "source": [
        "*Checking for GPU Availability*\n",
        "\n",
        "This code checks if a CUDA-enabled GPU is available and sets the `device` accordingly. If no GPU is available, it defaults to the CPU."
      ],
      "metadata": {
        "id": "zhodnFckeudX"
      }
    },
    {
      "cell_type": "code",
      "source": [
        "# Check if GPU is available\n",
        "device = torch.device('cuda' if torch.cuda.is_available() else 'cpu')\n",
        "print(f'Using device: {device}')"
      ],
      "metadata": {
        "id": "7dFBM3DFB60w",
        "colab": {
          "base_uri": "https://localhost:8080/"
        },
        "outputId": "b0ffa438-71bc-4cdf-f0bd-63c5bab3a4ae"
      },
      "execution_count": null,
      "outputs": [
        {
          "output_type": "stream",
          "name": "stdout",
          "text": [
            "Using device: cuda\n"
          ]
        }
      ]
    },
    {
      "cell_type": "markdown",
      "source": [
        "**2. Data Preparation**"
      ],
      "metadata": {
        "id": "Abf1Alkfe302"
      }
    },
    {
      "cell_type": "code",
      "source": [
        "# Define a transform to convert images to tensors\n",
        "transform = transforms.ToTensor()\n",
        "\n",
        "# Download and load the training data\n",
        "# Data set = List of files\n",
        "# Data loader = loading  data to memory (separately because of the size of big data)\n",
        "# Importatnt number ... batch_size ... number of pictures to be loaded at the same time\n",
        "# shuffle = True ... randomizes the batches\n",
        "train_set = datasets.FashionMNIST(root='./data', train=True, download=True, transform=transform)\n",
        "train_loader = torch.utils.data.DataLoader(train_set, batch_size=256, shuffle=True)\n",
        "\n",
        "# Download and load the test data\n",
        "test_set = datasets.FashionMNIST(root='./data', train=False, download=True, transform=transform)\n",
        "test_loader = torch.utils.data.DataLoader(test_set, batch_size=256, shuffle=False)"
      ],
      "metadata": {
        "id": "K47TtwmA-Z8x",
        "colab": {
          "base_uri": "https://localhost:8080/"
        },
        "outputId": "58a7e8f9-c1e2-4e3b-8b65-aecdca4dc42f"
      },
      "execution_count": null,
      "outputs": [
        {
          "output_type": "stream",
          "name": "stderr",
          "text": [
            "100%|██████████| 26.4M/26.4M [00:00<00:00, 113MB/s]\n",
            "100%|██████████| 29.5k/29.5k [00:00<00:00, 3.73MB/s]\n",
            "100%|██████████| 4.42M/4.42M [00:00<00:00, 56.4MB/s]\n",
            "100%|██████████| 5.15k/5.15k [00:00<00:00, 10.7MB/s]\n"
          ]
        }
      ]
    },
    {
      "cell_type": "markdown",
      "source": [
        "**3. Neural Network Model**"
      ],
      "metadata": {
        "id": "KD7S6DsPe8ym"
      }
    },
    {
      "cell_type": "code",
      "source": [
        "# Modele is a neural network (NN) or a part of it\n",
        "# NN needs:\n",
        "## Initial values of parameters\n",
        "## Data inputs and outputs (forward)\n",
        "## Derivation of outcome against the inputs (backward)\n",
        "\n",
        "class DenseNet(nn.Module):\n",
        "    def __init__(self):\n",
        "        super(DenseNet, self).__init__()\n",
        "        self.flatten = nn.Flatten()\n",
        "        self.fc1 = nn.Linear(28 * 28, 128)  # fc =  fully connected\n",
        "        self.fc2 = nn.Linear(128, 10)\n",
        "        # 28*28 is the size of each picture, number of input nodes\n",
        "        # 1st layer has 128 neurons\n",
        "        # output layer has 10 categories\n",
        "\n",
        "    def forward(self, x):\n",
        "        x = self.flatten(x)\n",
        "        x = F.relu(self.fc1(x))  # relu creates non-linearity in NN\n",
        "        logits = self.fc2(x)  # computes logit from 3rd layer\n",
        "        return logits\n",
        "\n",
        "model = DenseNet().to(device)\n",
        "model"
      ],
      "metadata": {
        "id": "twFKRzDA-lnB",
        "colab": {
          "base_uri": "https://localhost:8080/"
        },
        "outputId": "61d11d39-7f1e-4c24-8082-2668f2fe30de"
      },
      "execution_count": null,
      "outputs": [
        {
          "output_type": "execute_result",
          "data": {
            "text/plain": [
              "DenseNet(\n",
              "  (flatten): Flatten(start_dim=1, end_dim=-1)\n",
              "  (fc1): Linear(in_features=784, out_features=128, bias=True)\n",
              "  (fc2): Linear(in_features=128, out_features=10, bias=True)\n",
              ")"
            ]
          },
          "metadata": {},
          "execution_count": 6
        }
      ]
    },
    {
      "cell_type": "markdown",
      "source": [
        "**4. Loss & Optimizer**"
      ],
      "metadata": {
        "id": "_1FrTseTgr29"
      }
    },
    {
      "cell_type": "code",
      "source": [
        "criterion = nn.CrossEntropyLoss()  # choose loss function\n",
        "optimizer = optim.SGD(model.parameters(), lr=0.002)\n",
        "# STG = stochastic gradient descent\n",
        "# lr = learning rate ... usually we have to make a guess, usually small lr is appropriate"
      ],
      "metadata": {
        "id": "IJPpEm9n-zB6"
      },
      "execution_count": null,
      "outputs": []
    },
    {
      "cell_type": "markdown",
      "source": [
        "**5. Training loop**"
      ],
      "metadata": {
        "id": "HncQZoLcgywM"
      }
    },
    {
      "cell_type": "code",
      "source": [
        "# Epoch ... how many times we use the whole dataset (each picture in it)\n",
        "\n",
        "for epoch in range(5):  # Train for 5 epochs\n",
        "    running_loss = 0.0\n",
        "    for images, labels in train_loader:\n",
        "        # Move images and labels to the device\n",
        "        images = images.to(device)\n",
        "        labels = labels.to(device)\n",
        "\n",
        "        # Zero the parameter gradients\n",
        "        optimizer.zero_grad()  # delete the gradient\n",
        "\n",
        "        # Forward pass\n",
        "        outputs = model(images)  # pass images to model\n",
        "        loss = criterion(outputs, labels)\n",
        "\n",
        "        # Backward pass and optimize\n",
        "        loss.backward()  # compute the gradient\n",
        "        optimizer.step()  # change the parameters to \"better\" values\n",
        "\n",
        "        running_loss += loss.item()  # loss should be descreasing! if there is no underlaying problem\n",
        "\n",
        "    print(f'Epoch [{epoch+1}/5], Loss: {running_loss / len(train_loader):.4f}')"
      ],
      "metadata": {
        "id": "5PYUAF99_Qsc",
        "colab": {
          "base_uri": "https://localhost:8080/"
        },
        "outputId": "d7067e0a-6f06-4c00-a48b-a1b82d51e001"
      },
      "execution_count": null,
      "outputs": [
        {
          "output_type": "stream",
          "name": "stdout",
          "text": [
            "Epoch [1/5], Loss: 1.2586\n",
            "Epoch [2/5], Loss: 1.1570\n",
            "Epoch [3/5], Loss: 1.0800\n",
            "Epoch [4/5], Loss: 1.0200\n",
            "Epoch [5/5], Loss: 0.9719\n"
          ]
        }
      ]
    },
    {
      "cell_type": "markdown",
      "source": [
        "**6. Evaluation on the test set**"
      ],
      "metadata": {
        "id": "u4qK5d5Og608"
      }
    },
    {
      "cell_type": "code",
      "source": [
        "correct = 0\n",
        "total = 0\n",
        "with torch.no_grad():  # Disable gradient calculation for evaluation\n",
        "    for images, labels in test_loader:\n",
        "        # Move images and labels to the device\n",
        "        images = images.to(device)\n",
        "        labels = labels.to(device)\n",
        "\n",
        "        outputs = model(images)\n",
        "        _, predicted = torch.max(outputs, 1)\n",
        "        total += labels.size(0)\n",
        "        correct += (predicted == labels).sum().item()\n",
        "\n",
        "print(f'Accuracy: {100 * correct / total:.2f}%')"
      ],
      "metadata": {
        "id": "HQTk85Jt_TXb",
        "colab": {
          "base_uri": "https://localhost:8080/"
        },
        "outputId": "9dbe16f5-db01-4a3f-e0be-6391e1400906"
      },
      "execution_count": null,
      "outputs": [
        {
          "output_type": "stream",
          "name": "stdout",
          "text": [
            "Accuracy: 67.19%\n"
          ]
        }
      ]
    },
    {
      "cell_type": "code",
      "source": [],
      "metadata": {
        "id": "WeLdrT_jC4wn"
      },
      "execution_count": null,
      "outputs": []
    }
  ]
}
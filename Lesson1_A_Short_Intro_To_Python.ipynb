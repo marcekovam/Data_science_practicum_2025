{
  "cells": [
    {
      "cell_type": "markdown",
      "metadata": {
        "id": "view-in-github",
        "colab_type": "text"
      },
      "source": [
        "<a href=\"https://colab.research.google.com/github/marcekovam/Data_science_practicum_2025/blob/main/Lesson1_A_Short_Intro_To_Python.ipynb\" target=\"_parent\"><img src=\"https://colab.research.google.com/assets/colab-badge.svg\" alt=\"Open In Colab\"/></a>"
      ]
    },
    {
      "cell_type": "markdown",
      "metadata": {
        "id": "kc9k9AUWYHmG"
      },
      "source": [
        "# A Short Introduction To Python\n",
        "\n",
        "This introduction is recommended for coders coming from other language (e.g. `R`). I expect you to already know concept like a lists, conditional statements, loops or functions.   \n",
        "\n",
        "There is a plenty of material online to get oriented in Python. For example, skim Learn Python in ... minutes\n",
        "https://learnxinyminutes.com/docs/python/ and try do do the exercises below. If you stack, ask for help (do not waste time). There are no wrong questions. Please, work in pairs - only the person with less experience is allowed to touch the keyboard.\n",
        "\n",
        "To start with, please, copy this notebook into your GDrive (from menu select File -> Save a copy in drive).\n",
        "\n"
      ]
    },
    {
      "cell_type": "markdown",
      "metadata": {
        "id": "_Ixk7bxDYX3E"
      },
      "source": [
        "## Python Basic\n",
        "\n",
        "1) Save a number 3 into a variable `a` and print it\n",
        "\n",
        "*Expected output:*\n",
        "\n",
        "3"
      ]
    },
    {
      "cell_type": "code",
      "execution_count": 1,
      "metadata": {
        "id": "pWHm0s9WYWrJ",
        "colab": {
          "base_uri": "https://localhost:8080/"
        },
        "outputId": "ad7ffa5e-2a07-4a4d-e6f5-ca82045f732b"
      },
      "outputs": [
        {
          "output_type": "stream",
          "name": "stdout",
          "text": [
            "3\n"
          ]
        }
      ],
      "source": [
        "a = 3\n",
        "print(a)"
      ]
    },
    {
      "cell_type": "markdown",
      "metadata": {
        "id": "nQVqA2XVZXv2"
      },
      "source": [
        "2) Take the radius of a circle in a variable `r` and calculate the area:\n",
        "\n",
        "*Input:*\n",
        "\n",
        "`r = 1.2`\n",
        "\n",
        "*Output:*\n",
        "\n",
        "`Area = 4.523893421169302`"
      ]
    },
    {
      "cell_type": "code",
      "execution_count": 4,
      "metadata": {
        "id": "y8Lrzc0VaBvU",
        "colab": {
          "base_uri": "https://localhost:8080/"
        },
        "outputId": "027aea8b-201a-4933-9a94-55f529a9fedf"
      },
      "outputs": [
        {
          "output_type": "stream",
          "name": "stdout",
          "text": [
            "Area: 4.52\n"
          ]
        }
      ],
      "source": [
        "import math\n",
        "r = 1.2\n",
        "\n",
        "# YOUR CODE\n",
        "area = math.pi*r**2\n",
        "print(f'Area: {area:.2f}')\n"
      ]
    },
    {
      "cell_type": "markdown",
      "metadata": {
        "id": "XLiCuHAccy9A"
      },
      "source": [
        "3) Simulate throwing a dice (return a random number between 1 and 6)."
      ]
    },
    {
      "cell_type": "code",
      "execution_count": 14,
      "metadata": {
        "id": "RFO4bJEfcyMd",
        "colab": {
          "base_uri": "https://localhost:8080/"
        },
        "outputId": "1070d002-eeef-47a1-dcc4-3013b4bbdbe5"
      },
      "outputs": [
        {
          "output_type": "stream",
          "name": "stdout",
          "text": [
            "2\n"
          ]
        }
      ],
      "source": [
        "import random\n",
        "\n",
        "random_number = random.randint(1, 6)\n",
        "print(random_number)"
      ]
    },
    {
      "cell_type": "markdown",
      "metadata": {
        "id": "HU3aGYnDamT6"
      },
      "source": [
        "## Strings\n",
        "\n",
        "1) Write a Python program to calculate the length of a string.\n",
        "\n",
        "*Input:*\n",
        "\n",
        "`s = 'OMG!`\n",
        "\n",
        "*Output:*\n",
        "\n",
        "4"
      ]
    },
    {
      "cell_type": "code",
      "execution_count": 15,
      "metadata": {
        "id": "Zm7bo3-wayTF",
        "colab": {
          "base_uri": "https://localhost:8080/"
        },
        "outputId": "f500c86a-446c-4186-ef1a-5c7cb019bfcc"
      },
      "outputs": [
        {
          "output_type": "stream",
          "name": "stdout",
          "text": [
            "4\n"
          ]
        }
      ],
      "source": [
        "s = 'OMG!'\n",
        "print(len(s))"
      ]
    },
    {
      "cell_type": "markdown",
      "metadata": {
        "id": "0WIp8lzMbca6"
      },
      "source": [
        "3) Write a Python program to get a single string from two given strings, separated by a space and swap the first two characters of each string.\n",
        "\n",
        "*Sample Strings* : 'abc', 'xyz'\n",
        "\n",
        "*Expected Result* : 'xyc abz'"
      ]
    },
    {
      "cell_type": "code",
      "execution_count": 19,
      "metadata": {
        "id": "5aNJiF7sbsOl",
        "colab": {
          "base_uri": "https://localhost:8080/"
        },
        "outputId": "42e28829-2977-4629-d529-dbe0f105c42e"
      },
      "outputs": [
        {
          "output_type": "stream",
          "name": "stdout",
          "text": [
            "xyc abz\n"
          ]
        }
      ],
      "source": [
        "s1 = 'abc'\n",
        "s2 = 'xyz'\n",
        "\n",
        "# YOUR CODE\n",
        "s = s2[0:2] + s1[2:] + ' ' + s1[0:2] + s2[2:]\n",
        "print(s)"
      ]
    },
    {
      "cell_type": "markdown",
      "metadata": {
        "id": "UxfrAww8ay3b"
      },
      "source": [
        "3) Write a Python program to count the number of characters (character frequency) in a string. (hint: try Counter from collections module)\n",
        "\n",
        "*Input* : 'google.com'\n",
        "\n",
        "*Output* : {'g': 2, 'o': 3, 'l': 1, 'e': 1, '.': 1, 'c': 1, 'm': 1}"
      ]
    },
    {
      "cell_type": "code",
      "execution_count": 21,
      "metadata": {
        "id": "bZ6Q3k4ZbFLX",
        "colab": {
          "base_uri": "https://localhost:8080/"
        },
        "outputId": "e9c68f11-1889-48a9-deec-394ae909e557"
      },
      "outputs": [
        {
          "output_type": "stream",
          "name": "stdout",
          "text": [
            "Counter({'o': 3, 'g': 2, 'l': 1, 'e': 1, '.': 1, 'c': 1, 'm': 1})\n"
          ]
        }
      ],
      "source": [
        "from collections import Counter\n",
        "\n",
        "s = 'google.com'\n",
        "char_count = Counter(s)\n",
        "print(char_count)"
      ]
    },
    {
      "cell_type": "markdown",
      "metadata": {
        "id": "bZChofU8dKhH"
      },
      "source": [
        "# Lists\n",
        "\n",
        "1) Write a Python program to get the smallest, the largest number from a list and a sum of a list.\n",
        "\n",
        "*Input:* [3, 8, 1, 9]\n",
        "\n",
        "*Output:* 1, 9, 21"
      ]
    },
    {
      "cell_type": "code",
      "execution_count": 22,
      "metadata": {
        "id": "NLnSvJMIbHOr",
        "colab": {
          "base_uri": "https://localhost:8080/"
        },
        "outputId": "a644350e-4ed1-49dd-8569-dd428fa9a0d1"
      },
      "outputs": [
        {
          "output_type": "stream",
          "name": "stdout",
          "text": [
            "1 9 21\n"
          ]
        }
      ],
      "source": [
        "nums = [3, 8, 1, 9]\n",
        "print(min(nums), max(nums), sum(nums))"
      ]
    },
    {
      "cell_type": "markdown",
      "metadata": {
        "id": "J9ByniFEd24_"
      },
      "source": [
        "2) Write a Python program to print a list from 2nd to 3rd element and the last element.\n",
        "\n",
        "*Sample List:* ['Red', 'Green', 'White', 'Black', 'Pink', 'Yellow']\n",
        "\n",
        "*Expected Output:* ['Green', 'White', 'Yellow']"
      ]
    },
    {
      "cell_type": "code",
      "execution_count": 25,
      "metadata": {
        "id": "a1R_YSJadpGQ",
        "colab": {
          "base_uri": "https://localhost:8080/"
        },
        "outputId": "7345f1e1-1acf-4a37-fe92-d194eaf1186c"
      },
      "outputs": [
        {
          "output_type": "stream",
          "name": "stdout",
          "text": [
            "['Green', 'White', 'Yellow']\n"
          ]
        }
      ],
      "source": [
        "items = ['Red', 'Green', 'White', 'Black', 'Pink', 'Yellow']\n",
        "print(items[1:3] + items[-1:])"
      ]
    },
    {
      "cell_type": "markdown",
      "metadata": {
        "id": "rJPzdibWegKe"
      },
      "source": [
        "3) Write a Python program to print a every second element of a list in a reverse order.\n",
        "\n",
        "*Input:* [8, 4, 3, 6, 7]\n",
        "\n",
        "*Output: [7, 3, 8]*"
      ]
    },
    {
      "cell_type": "code",
      "execution_count": 26,
      "metadata": {
        "id": "A8THDxJCe8Qx",
        "colab": {
          "base_uri": "https://localhost:8080/"
        },
        "outputId": "6053c704-9084-47af-cbde-cb854b0e364c"
      },
      "outputs": [
        {
          "output_type": "execute_result",
          "data": {
            "text/plain": [
              "[7, 3, 8]"
            ]
          },
          "metadata": {},
          "execution_count": 26
        }
      ],
      "source": [
        "a = [8, 4, 3, 6, 7]\n",
        "a[::-2]"
      ]
    },
    {
      "cell_type": "markdown",
      "metadata": {
        "id": "n74TRtQTfYDL"
      },
      "source": [
        "4) Write a Python program to print the numbers of a specified list after removing even numbers from it. (hint: search for list comprehensions)\n",
        "\n",
        "*Input*: [8, 4, 3, 5, 7]\n",
        "\n",
        "*Output*: [3, 5, 7]"
      ]
    },
    {
      "cell_type": "code",
      "execution_count": 27,
      "metadata": {
        "id": "gexLP79bfAFj",
        "colab": {
          "base_uri": "https://localhost:8080/"
        },
        "outputId": "339fa366-2ba4-4798-c77a-a3a7c3fd3269"
      },
      "outputs": [
        {
          "output_type": "stream",
          "name": "stdout",
          "text": [
            "3 5 7\n"
          ]
        }
      ],
      "source": [
        "a = [8, 4, 3, 5, 7]\n",
        "b = [item for item in a if item % 2 == 1]\n",
        "print(*b)"
      ]
    },
    {
      "cell_type": "markdown",
      "metadata": {
        "id": "k9BZv-fDflp8"
      },
      "source": [
        "## Dictionary\n",
        "\n",
        "1) Write a Python script to add a key to a dictionary.\n",
        "\n",
        "*Sample Dictionary:* `{0: 10, 1: 20}`\n",
        "\n",
        "*Expected Result:* `{0: 10, 1: 20, 2: 30}`"
      ]
    },
    {
      "cell_type": "code",
      "execution_count": 30,
      "metadata": {
        "id": "Vgu56a5dfpfe",
        "colab": {
          "base_uri": "https://localhost:8080/"
        },
        "outputId": "22518646-d57b-43f7-a7f3-f941db3d0d74"
      },
      "outputs": [
        {
          "output_type": "stream",
          "name": "stdout",
          "text": [
            "{0: 10, 1: 20, 2: 30}\n"
          ]
        }
      ],
      "source": [
        "dictionary = {0: 10, 1: 20}\n",
        "dictionary[2] = 30\n",
        "print(dictionary)"
      ]
    },
    {
      "cell_type": "markdown",
      "metadata": {
        "id": "iPKJ57gGgNaX"
      },
      "source": [
        "2) Write a Python script to check whether a given key `\"default\"` already exists in a dictionary.\n",
        "\n",
        "*Sample Dictionary*: `d = {'default': 0, 'extra': 1}`\n",
        "\n",
        "*Expected Output*: True"
      ]
    },
    {
      "cell_type": "code",
      "execution_count": 31,
      "metadata": {
        "id": "t8jiAlwpgvCq",
        "colab": {
          "base_uri": "https://localhost:8080/"
        },
        "outputId": "75ad60fa-5dfc-4175-a7e6-c6d79b69299d"
      },
      "outputs": [
        {
          "output_type": "stream",
          "name": "stdout",
          "text": [
            "True\n"
          ]
        }
      ],
      "source": [
        "d = {'default': 0, 'extra': 1}\n",
        "print('default' in d)"
      ]
    },
    {
      "cell_type": "markdown",
      "metadata": {
        "id": "ephq59_Vgyd8"
      },
      "source": [
        "3) Write a Python script to generate and print a dictionary that contains a number (between 1 and n) in the form `(x, x*x)`. (*hint*: to generate through numbers 1..N, use `range(1, N+1)`)\n",
        "\n",
        "*Sample Dictionary*: (n = 5)\n",
        "\n",
        "*Expected Output*: {1: 1, 2: 4, 3: 9, 4: 16, 5: 25}"
      ]
    },
    {
      "cell_type": "code",
      "execution_count": 33,
      "metadata": {
        "id": "MvF8xvmEg-ug",
        "colab": {
          "base_uri": "https://localhost:8080/"
        },
        "outputId": "af2bd1b3-ff62-42cf-f6ab-c86788b5fdeb"
      },
      "outputs": [
        {
          "output_type": "stream",
          "name": "stdout",
          "text": [
            "{1: 1, 2: 4, 3: 9, 4: 16, 5: 25}\n"
          ]
        }
      ],
      "source": [
        "n = 5\n",
        "dictionary = {i: i**2 for i in range(1, n + 1)}\n",
        "print(dictionary)\n"
      ]
    },
    {
      "cell_type": "markdown",
      "metadata": {
        "id": "rFoZujkqhPHF"
      },
      "source": [
        "## Conditional statements and loops\n",
        "\n",
        "1) Write a Python program to construct the following pattern, using a loop.\n",
        "\n",
        "```\n",
        "* * * * *\n",
        "* * * *\n",
        "* * *\n",
        "* *\n",
        "*\n",
        "```"
      ]
    },
    {
      "cell_type": "code",
      "execution_count": 35,
      "metadata": {
        "id": "5nx2HcRbh1pS",
        "colab": {
          "base_uri": "https://localhost:8080/"
        },
        "outputId": "d3038503-6cf9-4ed3-bc7d-3cb3825a5ca1"
      },
      "outputs": [
        {
          "output_type": "stream",
          "name": "stdout",
          "text": [
            "* * * * * \n",
            "* * * * \n",
            "* * * \n",
            "* * \n",
            "* \n"
          ]
        }
      ],
      "source": [
        "for i in range(0, 5):\n",
        "  print('* '*(5 - i))"
      ]
    },
    {
      "cell_type": "markdown",
      "metadata": {
        "id": "8jrjwvnEhqP4"
      },
      "source": [
        "2) Write a Python program to count the number of even and odd numbers from a series of numbers.\n",
        "\n",
        "*Sample numbers*: numbers = (1, 2, 3, 4, 5, 6, 7, 8, 9)\n",
        "\n",
        "*Expected Output*:\n",
        "\n",
        "Number of even numbers : 4\n",
        "\n",
        "Number of odd numbers : 5"
      ]
    },
    {
      "cell_type": "code",
      "execution_count": 36,
      "metadata": {
        "id": "BvJKiuBOhDVk",
        "colab": {
          "base_uri": "https://localhost:8080/"
        },
        "outputId": "722af03b-2963-4b9c-b866-a3030e68586d"
      },
      "outputs": [
        {
          "output_type": "stream",
          "name": "stdout",
          "text": [
            "Number of even numbers: 4\n",
            "Number of odd numbers: 5\n"
          ]
        }
      ],
      "source": [
        "numbers = (1, 2, 3, 4, 5, 6, 7, 8, 9)\n",
        "even = len([n for n in numbers if n % 2 == 0])\n",
        "odd = len([n for n in numbers if n % 2 == 1])\n",
        "print(f'Number of even numbers: {even}')\n",
        "print(f'Number of odd numbers: {odd}')"
      ]
    },
    {
      "cell_type": "markdown",
      "metadata": {
        "id": "tz5__SdoiCrC"
      },
      "source": [
        "3) Write a Python program which iterates the integers from 1 to 50. For multiples of three print \"Fizz\" instead of the number and for the multiples of five print \"Buzz\". For numbers which are multiples of both three and five print \"FizzBuzz\".\n",
        "\n",
        "*Sample Output*:\n",
        "```\n",
        "fizzbuzz\n",
        "1\n",
        "2\n",
        "fizz\n",
        "4\n",
        "buzz\n",
        "```"
      ]
    },
    {
      "cell_type": "code",
      "source": [
        "for i in range(1, 21):\n",
        "  if i % 3 == 0 and i % 5 == 0:\n",
        "    print('fizzbuzz')\n",
        "  elif i % 3 == 0:\n",
        "    print('fizz')\n",
        "  elif i % 5 == 0:\n",
        "    print('buzz')\n",
        "  else:\n",
        "    print(i)"
      ],
      "metadata": {
        "colab": {
          "base_uri": "https://localhost:8080/"
        },
        "id": "kbXMgBtwrowD",
        "outputId": "993f8cf8-4735-4b91-90e6-4c0484c7678a"
      },
      "execution_count": 38,
      "outputs": [
        {
          "output_type": "stream",
          "name": "stdout",
          "text": [
            "1\n",
            "2\n",
            "fizz\n",
            "4\n",
            "buzz\n",
            "fizz\n",
            "7\n",
            "8\n",
            "fizz\n",
            "buzz\n",
            "11\n",
            "fizz\n",
            "13\n",
            "14\n",
            "fizzbuzz\n",
            "16\n",
            "17\n",
            "fizz\n",
            "19\n",
            "buzz\n"
          ]
        }
      ]
    },
    {
      "cell_type": "markdown",
      "metadata": {
        "id": "IXh-mUI4iQZD"
      },
      "source": [
        "4) Write a Python program which takes two digits m (row) and n (column) as input and generates a \"two-dimensional\" list. The element value in the i-th row and j-th column of the array should be i*j.\n",
        "\n",
        "*Test Data*: Rows = 3, Columns = 4\n",
        "\n",
        "*Expected Result*: [[0, 0, 0, 0], [0, 1, 2, 3], [0, 2, 4, 6]]"
      ]
    },
    {
      "cell_type": "code",
      "execution_count": 41,
      "metadata": {
        "id": "xEUERUjThOMC",
        "colab": {
          "base_uri": "https://localhost:8080/"
        },
        "outputId": "26911fe2-2097-4ab8-d334-642cbdec8ad6"
      },
      "outputs": [
        {
          "output_type": "stream",
          "name": "stdout",
          "text": [
            "[[0, 0, 0, 0], [0, 1, 2, 3], [0, 2, 4, 6]]\n"
          ]
        }
      ],
      "source": [
        "Rows = 3\n",
        "Columns = 4\n",
        "array = [[i*j for i in range(0, Columns)] for j in range(0, Rows)]\n",
        "print(array)"
      ]
    },
    {
      "cell_type": "markdown",
      "metadata": {
        "id": "dwbYMGH_ig7B"
      },
      "source": [
        "## Functions\n",
        "\n",
        "1) Write a Python program to reverse a string.\n",
        "\n",
        "*Sample String*: \"1234abcd\"\n",
        "\n",
        "*Expected Output*: \"dcba4321\""
      ]
    },
    {
      "cell_type": "code",
      "execution_count": 44,
      "metadata": {
        "id": "vexEDMHRit6K",
        "colab": {
          "base_uri": "https://localhost:8080/",
          "height": 35
        },
        "outputId": "c2e10c1b-4c43-4ebf-e1d8-973249cf12a8"
      },
      "outputs": [
        {
          "output_type": "execute_result",
          "data": {
            "text/plain": [
              "'dcba4321'"
            ],
            "application/vnd.google.colaboratory.intrinsic+json": {
              "type": "string"
            }
          },
          "metadata": {},
          "execution_count": 44
        }
      ],
      "source": [
        "s = \"1234abcd\"\n",
        "\n",
        "def reverse_string(x):\n",
        "  # YOUR CODE\n",
        "  s = x[::-1]\n",
        "  return(s)\n",
        "\n",
        "reverse_string(s)"
      ]
    },
    {
      "cell_type": "markdown",
      "metadata": {
        "id": "MoeQIISmi8Rd"
      },
      "source": [
        "2) Write a Python function to calculate the factorial of a number (a non-negative integer). The function accepts the number as an argument.\n",
        "\n",
        "*Input:* 4\n",
        "\n",
        "*Expected output:* 24"
      ]
    },
    {
      "cell_type": "code",
      "execution_count": 45,
      "metadata": {
        "id": "gE3-amPsjJgm",
        "colab": {
          "base_uri": "https://localhost:8080/"
        },
        "outputId": "4e4ccdfb-fd49-44f2-ee65-ef3b86446068"
      },
      "outputs": [
        {
          "output_type": "execute_result",
          "data": {
            "text/plain": [
              "24"
            ]
          },
          "metadata": {},
          "execution_count": 45
        }
      ],
      "source": [
        "i = 4\n",
        "\n",
        "def factorial(x):\n",
        "  # YOUR CODE\n",
        "  fact = 1\n",
        "  while x > 1:\n",
        "    fact *= x\n",
        "    x -= 1\n",
        "  return fact\n",
        "\n",
        "factorial(i)"
      ]
    },
    {
      "cell_type": "markdown",
      "metadata": {
        "id": "Nre88nyojQow"
      },
      "source": []
    },
    {
      "cell_type": "markdown",
      "metadata": {
        "id": "ruAV-gn0jQuJ"
      },
      "source": [
        "3) Write a Python function that takes a list and returns a new list with unique elements of the first list.\n",
        "\n",
        "*Sample List*: [1,2,3,3,3,3,4,5]\n",
        "\n",
        "*Unique List*: [1, 2, 3, 4, 5]"
      ]
    },
    {
      "cell_type": "code",
      "execution_count": 46,
      "metadata": {
        "id": "14HIL0tkjP6u",
        "colab": {
          "base_uri": "https://localhost:8080/"
        },
        "outputId": "1b506233-6d74-4ad7-dc37-0613b17147f2"
      },
      "outputs": [
        {
          "output_type": "execute_result",
          "data": {
            "text/plain": [
              "[1, 2, 3, 4, 5]"
            ]
          },
          "metadata": {},
          "execution_count": 46
        }
      ],
      "source": [
        "a = [1,2,3,3,3,3,4,5]\n",
        "\n",
        "def unique_list(x):\n",
        "  # YOUR CODE\n",
        "  return list(set(x))\n",
        "\n",
        "unique_list(a)"
      ]
    },
    {
      "cell_type": "markdown",
      "metadata": {
        "id": "GN_ZkiW-kuMh"
      },
      "source": [
        "## Numpy Arrays\n",
        "\n",
        "1)  Create a 1D array of numbers from 0 to 9\n",
        "\n",
        "*Output:* `array([0, 1, 2, 3, 4, 5, 6, 7, 8, 9])`\n",
        "\n"
      ]
    },
    {
      "cell_type": "code",
      "execution_count": 48,
      "metadata": {
        "id": "Gor71BhflUqy",
        "colab": {
          "base_uri": "https://localhost:8080/"
        },
        "outputId": "f8721efd-9152-43ec-bf3a-6ba1a3292d97"
      },
      "outputs": [
        {
          "output_type": "stream",
          "name": "stdout",
          "text": [
            "[0 1 2 3 4 5 6 7 8 9]\n"
          ]
        }
      ],
      "source": [
        "import numpy as np\n",
        "\n",
        "array = np.arange(0, 10)\n",
        "print(array)"
      ]
    },
    {
      "cell_type": "markdown",
      "metadata": {
        "id": "wfUsBcIzlY6f"
      },
      "source": [
        "2) Find how to generate an array N x M of random numbers, zeroes, ones and how to get a shape (a dimension) of an array.\n",
        "\n",
        "Generate an array 10x20 of random numbers between 0 and 1 anbd calculate a sum of each row."
      ]
    },
    {
      "cell_type": "code",
      "execution_count": 52,
      "metadata": {
        "id": "Jm1vCOydmLzu",
        "colab": {
          "base_uri": "https://localhost:8080/"
        },
        "outputId": "e9e6cd5e-59e9-46cd-9f89-731d38f1f6e5"
      },
      "outputs": [
        {
          "output_type": "stream",
          "name": "stdout",
          "text": [
            "[12.29859929  9.60389434 11.57427926  9.63909912 10.13984188  8.19273167\n",
            " 11.80986926  9.26553026 11.79648864 11.39685707]\n"
          ]
        }
      ],
      "source": [
        "array = np.random.rand(10, 20)\n",
        "array_row_sum = np.sum(array, axis = 1)\n",
        "print(array_row_sum)"
      ]
    },
    {
      "cell_type": "markdown",
      "metadata": {
        "id": "TuVz_i61mR8i"
      },
      "source": [
        "3) Replace all odd numbers in array with -1\n",
        "\n",
        "*Input*: arr = np.array([0, 1, 2, 3, 4, 5, 6, 7, 8, 9])\n",
        "\n",
        "*Output*: array([ 0, -1,  2, -1,  4, -1,  6, -1,  8, -1])"
      ]
    },
    {
      "cell_type": "code",
      "execution_count": 53,
      "metadata": {
        "id": "Gszta9g6mVxd",
        "colab": {
          "base_uri": "https://localhost:8080/"
        },
        "outputId": "c4bd04e4-4aa2-4338-8ee5-1efc90631f0d"
      },
      "outputs": [
        {
          "output_type": "stream",
          "name": "stdout",
          "text": [
            "[ 0 -1  2 -1  4 -1  6 -1  8 -1]\n"
          ]
        }
      ],
      "source": [
        "arr = np.array([0, 1, 2, 3, 4, 5, 6, 7, 8, 9])\n",
        "arr[arr % 2 == 1] = -1\n",
        "print(arr)"
      ]
    },
    {
      "cell_type": "markdown",
      "metadata": {
        "id": "boBRfq6EmjYB"
      },
      "source": [
        "4) Convert a 1D array to a 2D array with 2 rows\n",
        "\n",
        "*Input*: array([ 0, 1, 2, 3, 4, 5, 6, 7, 8, 9])\n",
        "\n",
        "*Output*: array([[0, 1, 2, 3, 4],\n",
        "                [5, 6, 7, 8, 9]])"
      ]
    },
    {
      "cell_type": "code",
      "execution_count": 59,
      "metadata": {
        "id": "TjznVtvDmknY",
        "colab": {
          "base_uri": "https://localhost:8080/"
        },
        "outputId": "de417ce4-e94f-4ff7-f53c-c758d50c81e0"
      },
      "outputs": [
        {
          "output_type": "stream",
          "name": "stdout",
          "text": [
            "[[0 1 2 3 4]\n",
            " [5 6 7 8 9]]\n"
          ]
        }
      ],
      "source": [
        "arr = np.array([0, 1, 2, 3, 4, 5, 6, 7, 8, 9])\n",
        "arr = arr.reshape(2, -1)\n",
        "print(arr)"
      ]
    },
    {
      "cell_type": "markdown",
      "metadata": {
        "id": "0dLDMB60m9zW"
      },
      "source": [
        "5) Get the positions where elements of a and b match\n",
        "\n",
        "*Input*:\n",
        "```\n",
        "a = np.array([1,2,3,2,3,4,3,4,5,6])\n",
        "b = np.array([7,2,10,2,7,4,9,4,9,8])\n",
        "```\n",
        "\n",
        "*Output*:\n",
        "\n",
        "`array([1, 3, 5, 7])`"
      ]
    },
    {
      "cell_type": "code",
      "execution_count": 61,
      "metadata": {
        "id": "USVbwwH_nYvT",
        "colab": {
          "base_uri": "https://localhost:8080/"
        },
        "outputId": "cfecbaf8-85ba-43df-8ce3-55ca7d1fb9d4"
      },
      "outputs": [
        {
          "output_type": "execute_result",
          "data": {
            "text/plain": [
              "(array([1, 3, 5, 7]),)"
            ]
          },
          "metadata": {},
          "execution_count": 61
        }
      ],
      "source": [
        "a = np.array([1,2,3,2,3,4,3,4,5,6])\n",
        "b = np.array([7,2,10,2,7,4,9,4,9,8])\n",
        "np.where(a == b)"
      ]
    },
    {
      "cell_type": "markdown",
      "metadata": {
        "id": "Aafmqf69nZBi"
      },
      "source": [
        "6)  Swap columns 1 and 2 in the array\n",
        "\n",
        "*Input:*\n",
        "\n",
        "```\n",
        "array([[0, 1, 2],\n",
        "       [3, 4, 5],\n",
        "       [6, 7, 8]])\n",
        "```\n",
        "\n",
        "*Output:*\n",
        "\n",
        "```\n",
        "array([[1, 0, 2],\n",
        "       [4, 3, 5],\n",
        "       [7, 6, 8]])\n",
        "```"
      ]
    },
    {
      "cell_type": "code",
      "execution_count": 64,
      "metadata": {
        "id": "qcwXf0H3ng7P",
        "colab": {
          "base_uri": "https://localhost:8080/"
        },
        "outputId": "0f8b6664-893d-4100-d068-52b12e5dc191"
      },
      "outputs": [
        {
          "output_type": "execute_result",
          "data": {
            "text/plain": [
              "array([[1, 0, 2],\n",
              "       [4, 3, 5],\n",
              "       [7, 6, 8]])"
            ]
          },
          "metadata": {},
          "execution_count": 64
        }
      ],
      "source": [
        "arr = np.arange(9).reshape(3,3)\n",
        "arr[:, [1, 0, 2]] = arr\n",
        "arr"
      ]
    },
    {
      "cell_type": "markdown",
      "metadata": {
        "id": "2dEc0kDQyJiZ"
      },
      "source": [
        "## Pandas\n",
        "\n",
        "1) Read CSV file from http://raw.githubusercontent.com/resbaz/r-novice-gapminder-files/master/data/gapminder-FiveYearData.csv into DataFrame `df`. Use 'country' as an index column. Print first 5 lines of `df`."
      ]
    },
    {
      "cell_type": "code",
      "execution_count": 67,
      "metadata": {
        "id": "5VSW7rjPyTM-",
        "colab": {
          "base_uri": "https://localhost:8080/",
          "height": 237
        },
        "outputId": "cef80eb0-54b0-46ee-e70c-e46c2288ab80"
      },
      "outputs": [
        {
          "output_type": "execute_result",
          "data": {
            "text/plain": [
              "             year         pop continent  lifeExp   gdpPercap\n",
              "country                                                     \n",
              "Afghanistan  1952   8425333.0      Asia   28.801  779.445314\n",
              "Afghanistan  1957   9240934.0      Asia   30.332  820.853030\n",
              "Afghanistan  1962  10267083.0      Asia   31.997  853.100710\n",
              "Afghanistan  1967  11537966.0      Asia   34.020  836.197138\n",
              "Afghanistan  1972  13079460.0      Asia   36.088  739.981106"
            ],
            "text/html": [
              "\n",
              "  <div id=\"df-fd828f06-295f-42a3-9d8a-c9dff82832a7\" class=\"colab-df-container\">\n",
              "    <div>\n",
              "<style scoped>\n",
              "    .dataframe tbody tr th:only-of-type {\n",
              "        vertical-align: middle;\n",
              "    }\n",
              "\n",
              "    .dataframe tbody tr th {\n",
              "        vertical-align: top;\n",
              "    }\n",
              "\n",
              "    .dataframe thead th {\n",
              "        text-align: right;\n",
              "    }\n",
              "</style>\n",
              "<table border=\"1\" class=\"dataframe\">\n",
              "  <thead>\n",
              "    <tr style=\"text-align: right;\">\n",
              "      <th></th>\n",
              "      <th>year</th>\n",
              "      <th>pop</th>\n",
              "      <th>continent</th>\n",
              "      <th>lifeExp</th>\n",
              "      <th>gdpPercap</th>\n",
              "    </tr>\n",
              "    <tr>\n",
              "      <th>country</th>\n",
              "      <th></th>\n",
              "      <th></th>\n",
              "      <th></th>\n",
              "      <th></th>\n",
              "      <th></th>\n",
              "    </tr>\n",
              "  </thead>\n",
              "  <tbody>\n",
              "    <tr>\n",
              "      <th>Afghanistan</th>\n",
              "      <td>1952</td>\n",
              "      <td>8425333.0</td>\n",
              "      <td>Asia</td>\n",
              "      <td>28.801</td>\n",
              "      <td>779.445314</td>\n",
              "    </tr>\n",
              "    <tr>\n",
              "      <th>Afghanistan</th>\n",
              "      <td>1957</td>\n",
              "      <td>9240934.0</td>\n",
              "      <td>Asia</td>\n",
              "      <td>30.332</td>\n",
              "      <td>820.853030</td>\n",
              "    </tr>\n",
              "    <tr>\n",
              "      <th>Afghanistan</th>\n",
              "      <td>1962</td>\n",
              "      <td>10267083.0</td>\n",
              "      <td>Asia</td>\n",
              "      <td>31.997</td>\n",
              "      <td>853.100710</td>\n",
              "    </tr>\n",
              "    <tr>\n",
              "      <th>Afghanistan</th>\n",
              "      <td>1967</td>\n",
              "      <td>11537966.0</td>\n",
              "      <td>Asia</td>\n",
              "      <td>34.020</td>\n",
              "      <td>836.197138</td>\n",
              "    </tr>\n",
              "    <tr>\n",
              "      <th>Afghanistan</th>\n",
              "      <td>1972</td>\n",
              "      <td>13079460.0</td>\n",
              "      <td>Asia</td>\n",
              "      <td>36.088</td>\n",
              "      <td>739.981106</td>\n",
              "    </tr>\n",
              "  </tbody>\n",
              "</table>\n",
              "</div>\n",
              "    <div class=\"colab-df-buttons\">\n",
              "\n",
              "  <div class=\"colab-df-container\">\n",
              "    <button class=\"colab-df-convert\" onclick=\"convertToInteractive('df-fd828f06-295f-42a3-9d8a-c9dff82832a7')\"\n",
              "            title=\"Convert this dataframe to an interactive table.\"\n",
              "            style=\"display:none;\">\n",
              "\n",
              "  <svg xmlns=\"http://www.w3.org/2000/svg\" height=\"24px\" viewBox=\"0 -960 960 960\">\n",
              "    <path d=\"M120-120v-720h720v720H120Zm60-500h600v-160H180v160Zm220 220h160v-160H400v160Zm0 220h160v-160H400v160ZM180-400h160v-160H180v160Zm440 0h160v-160H620v160ZM180-180h160v-160H180v160Zm440 0h160v-160H620v160Z\"/>\n",
              "  </svg>\n",
              "    </button>\n",
              "\n",
              "  <style>\n",
              "    .colab-df-container {\n",
              "      display:flex;\n",
              "      gap: 12px;\n",
              "    }\n",
              "\n",
              "    .colab-df-convert {\n",
              "      background-color: #E8F0FE;\n",
              "      border: none;\n",
              "      border-radius: 50%;\n",
              "      cursor: pointer;\n",
              "      display: none;\n",
              "      fill: #1967D2;\n",
              "      height: 32px;\n",
              "      padding: 0 0 0 0;\n",
              "      width: 32px;\n",
              "    }\n",
              "\n",
              "    .colab-df-convert:hover {\n",
              "      background-color: #E2EBFA;\n",
              "      box-shadow: 0px 1px 2px rgba(60, 64, 67, 0.3), 0px 1px 3px 1px rgba(60, 64, 67, 0.15);\n",
              "      fill: #174EA6;\n",
              "    }\n",
              "\n",
              "    .colab-df-buttons div {\n",
              "      margin-bottom: 4px;\n",
              "    }\n",
              "\n",
              "    [theme=dark] .colab-df-convert {\n",
              "      background-color: #3B4455;\n",
              "      fill: #D2E3FC;\n",
              "    }\n",
              "\n",
              "    [theme=dark] .colab-df-convert:hover {\n",
              "      background-color: #434B5C;\n",
              "      box-shadow: 0px 1px 3px 1px rgba(0, 0, 0, 0.15);\n",
              "      filter: drop-shadow(0px 1px 2px rgba(0, 0, 0, 0.3));\n",
              "      fill: #FFFFFF;\n",
              "    }\n",
              "  </style>\n",
              "\n",
              "    <script>\n",
              "      const buttonEl =\n",
              "        document.querySelector('#df-fd828f06-295f-42a3-9d8a-c9dff82832a7 button.colab-df-convert');\n",
              "      buttonEl.style.display =\n",
              "        google.colab.kernel.accessAllowed ? 'block' : 'none';\n",
              "\n",
              "      async function convertToInteractive(key) {\n",
              "        const element = document.querySelector('#df-fd828f06-295f-42a3-9d8a-c9dff82832a7');\n",
              "        const dataTable =\n",
              "          await google.colab.kernel.invokeFunction('convertToInteractive',\n",
              "                                                    [key], {});\n",
              "        if (!dataTable) return;\n",
              "\n",
              "        const docLinkHtml = 'Like what you see? Visit the ' +\n",
              "          '<a target=\"_blank\" href=https://colab.research.google.com/notebooks/data_table.ipynb>data table notebook</a>'\n",
              "          + ' to learn more about interactive tables.';\n",
              "        element.innerHTML = '';\n",
              "        dataTable['output_type'] = 'display_data';\n",
              "        await google.colab.output.renderOutput(dataTable, element);\n",
              "        const docLink = document.createElement('div');\n",
              "        docLink.innerHTML = docLinkHtml;\n",
              "        element.appendChild(docLink);\n",
              "      }\n",
              "    </script>\n",
              "  </div>\n",
              "\n",
              "\n",
              "    <div id=\"df-abc0c950-61e2-4035-9ae4-58effd74ec1b\">\n",
              "      <button class=\"colab-df-quickchart\" onclick=\"quickchart('df-abc0c950-61e2-4035-9ae4-58effd74ec1b')\"\n",
              "                title=\"Suggest charts\"\n",
              "                style=\"display:none;\">\n",
              "\n",
              "<svg xmlns=\"http://www.w3.org/2000/svg\" height=\"24px\"viewBox=\"0 0 24 24\"\n",
              "     width=\"24px\">\n",
              "    <g>\n",
              "        <path d=\"M19 3H5c-1.1 0-2 .9-2 2v14c0 1.1.9 2 2 2h14c1.1 0 2-.9 2-2V5c0-1.1-.9-2-2-2zM9 17H7v-7h2v7zm4 0h-2V7h2v10zm4 0h-2v-4h2v4z\"/>\n",
              "    </g>\n",
              "</svg>\n",
              "      </button>\n",
              "\n",
              "<style>\n",
              "  .colab-df-quickchart {\n",
              "      --bg-color: #E8F0FE;\n",
              "      --fill-color: #1967D2;\n",
              "      --hover-bg-color: #E2EBFA;\n",
              "      --hover-fill-color: #174EA6;\n",
              "      --disabled-fill-color: #AAA;\n",
              "      --disabled-bg-color: #DDD;\n",
              "  }\n",
              "\n",
              "  [theme=dark] .colab-df-quickchart {\n",
              "      --bg-color: #3B4455;\n",
              "      --fill-color: #D2E3FC;\n",
              "      --hover-bg-color: #434B5C;\n",
              "      --hover-fill-color: #FFFFFF;\n",
              "      --disabled-bg-color: #3B4455;\n",
              "      --disabled-fill-color: #666;\n",
              "  }\n",
              "\n",
              "  .colab-df-quickchart {\n",
              "    background-color: var(--bg-color);\n",
              "    border: none;\n",
              "    border-radius: 50%;\n",
              "    cursor: pointer;\n",
              "    display: none;\n",
              "    fill: var(--fill-color);\n",
              "    height: 32px;\n",
              "    padding: 0;\n",
              "    width: 32px;\n",
              "  }\n",
              "\n",
              "  .colab-df-quickchart:hover {\n",
              "    background-color: var(--hover-bg-color);\n",
              "    box-shadow: 0 1px 2px rgba(60, 64, 67, 0.3), 0 1px 3px 1px rgba(60, 64, 67, 0.15);\n",
              "    fill: var(--button-hover-fill-color);\n",
              "  }\n",
              "\n",
              "  .colab-df-quickchart-complete:disabled,\n",
              "  .colab-df-quickchart-complete:disabled:hover {\n",
              "    background-color: var(--disabled-bg-color);\n",
              "    fill: var(--disabled-fill-color);\n",
              "    box-shadow: none;\n",
              "  }\n",
              "\n",
              "  .colab-df-spinner {\n",
              "    border: 2px solid var(--fill-color);\n",
              "    border-color: transparent;\n",
              "    border-bottom-color: var(--fill-color);\n",
              "    animation:\n",
              "      spin 1s steps(1) infinite;\n",
              "  }\n",
              "\n",
              "  @keyframes spin {\n",
              "    0% {\n",
              "      border-color: transparent;\n",
              "      border-bottom-color: var(--fill-color);\n",
              "      border-left-color: var(--fill-color);\n",
              "    }\n",
              "    20% {\n",
              "      border-color: transparent;\n",
              "      border-left-color: var(--fill-color);\n",
              "      border-top-color: var(--fill-color);\n",
              "    }\n",
              "    30% {\n",
              "      border-color: transparent;\n",
              "      border-left-color: var(--fill-color);\n",
              "      border-top-color: var(--fill-color);\n",
              "      border-right-color: var(--fill-color);\n",
              "    }\n",
              "    40% {\n",
              "      border-color: transparent;\n",
              "      border-right-color: var(--fill-color);\n",
              "      border-top-color: var(--fill-color);\n",
              "    }\n",
              "    60% {\n",
              "      border-color: transparent;\n",
              "      border-right-color: var(--fill-color);\n",
              "    }\n",
              "    80% {\n",
              "      border-color: transparent;\n",
              "      border-right-color: var(--fill-color);\n",
              "      border-bottom-color: var(--fill-color);\n",
              "    }\n",
              "    90% {\n",
              "      border-color: transparent;\n",
              "      border-bottom-color: var(--fill-color);\n",
              "    }\n",
              "  }\n",
              "</style>\n",
              "\n",
              "      <script>\n",
              "        async function quickchart(key) {\n",
              "          const quickchartButtonEl =\n",
              "            document.querySelector('#' + key + ' button');\n",
              "          quickchartButtonEl.disabled = true;  // To prevent multiple clicks.\n",
              "          quickchartButtonEl.classList.add('colab-df-spinner');\n",
              "          try {\n",
              "            const charts = await google.colab.kernel.invokeFunction(\n",
              "                'suggestCharts', [key], {});\n",
              "          } catch (error) {\n",
              "            console.error('Error during call to suggestCharts:', error);\n",
              "          }\n",
              "          quickchartButtonEl.classList.remove('colab-df-spinner');\n",
              "          quickchartButtonEl.classList.add('colab-df-quickchart-complete');\n",
              "        }\n",
              "        (() => {\n",
              "          let quickchartButtonEl =\n",
              "            document.querySelector('#df-abc0c950-61e2-4035-9ae4-58effd74ec1b button');\n",
              "          quickchartButtonEl.style.display =\n",
              "            google.colab.kernel.accessAllowed ? 'block' : 'none';\n",
              "        })();\n",
              "      </script>\n",
              "    </div>\n",
              "\n",
              "    </div>\n",
              "  </div>\n"
            ],
            "application/vnd.google.colaboratory.intrinsic+json": {
              "type": "dataframe",
              "summary": "{\n  \"name\": \"df[:5]\",\n  \"rows\": 5,\n  \"fields\": [\n    {\n      \"column\": \"country\",\n      \"properties\": {\n        \"dtype\": \"category\",\n        \"num_unique_values\": 1,\n        \"samples\": [\n          \"Afghanistan\"\n        ],\n        \"semantic_type\": \"\",\n        \"description\": \"\"\n      }\n    },\n    {\n      \"column\": \"year\",\n      \"properties\": {\n        \"dtype\": \"number\",\n        \"std\": 7,\n        \"min\": 1952,\n        \"max\": 1972,\n        \"num_unique_values\": 5,\n        \"samples\": [\n          1957\n        ],\n        \"semantic_type\": \"\",\n        \"description\": \"\"\n      }\n    },\n    {\n      \"column\": \"pop\",\n      \"properties\": {\n        \"dtype\": \"number\",\n        \"std\": 1848932.9591993594,\n        \"min\": 8425333.0,\n        \"max\": 13079460.0,\n        \"num_unique_values\": 5,\n        \"samples\": [\n          9240934.0\n        ],\n        \"semantic_type\": \"\",\n        \"description\": \"\"\n      }\n    },\n    {\n      \"column\": \"continent\",\n      \"properties\": {\n        \"dtype\": \"category\",\n        \"num_unique_values\": 1,\n        \"samples\": [\n          \"Asia\"\n        ],\n        \"semantic_type\": \"\",\n        \"description\": \"\"\n      }\n    },\n    {\n      \"column\": \"lifeExp\",\n      \"properties\": {\n        \"dtype\": \"number\",\n        \"std\": 2.8940218209267194,\n        \"min\": 28.801,\n        \"max\": 36.088,\n        \"num_unique_values\": 5,\n        \"samples\": [\n          30.332\n        ],\n        \"semantic_type\": \"\",\n        \"description\": \"\"\n      }\n    },\n    {\n      \"column\": \"gdpPercap\",\n      \"properties\": {\n        \"dtype\": \"number\",\n        \"std\": 45.865473136903134,\n        \"min\": 739.9811058,\n        \"max\": 853.10071,\n        \"num_unique_values\": 5,\n        \"samples\": [\n          820.8530296\n        ],\n        \"semantic_type\": \"\",\n        \"description\": \"\"\n      }\n    }\n  ]\n}"
            }
          },
          "metadata": {},
          "execution_count": 67
        }
      ],
      "source": [
        "import pandas as pd\n",
        "\n",
        "url = 'http://raw.githubusercontent.com/resbaz/r-novice-gapminder-files/master/data/gapminder-FiveYearData.csv'\n",
        "df = pd.read_csv(url, index_col = 'country')\n",
        "df[:5]"
      ]
    },
    {
      "cell_type": "markdown",
      "metadata": {
        "id": "s-Vlp6WQybwm"
      },
      "source": [
        "2) Print all information in the dataframe about \"Czech Republic\". Print only life expectancy progression in the Czech Republic (columns `year` and `lifeExp`)."
      ]
    },
    {
      "cell_type": "code",
      "execution_count": 69,
      "metadata": {
        "id": "5HJY25vx1WkF",
        "colab": {
          "base_uri": "https://localhost:8080/",
          "height": 457
        },
        "outputId": "f9022994-4659-4105-980a-60f7a708e647"
      },
      "outputs": [
        {
          "output_type": "execute_result",
          "data": {
            "text/plain": [
              "                year  lifeExp\n",
              "country                      \n",
              "Czech Republic  1952   66.870\n",
              "Czech Republic  1957   69.030\n",
              "Czech Republic  1962   69.900\n",
              "Czech Republic  1967   70.380\n",
              "Czech Republic  1972   70.290\n",
              "Czech Republic  1977   70.710\n",
              "Czech Republic  1982   70.960\n",
              "Czech Republic  1987   71.580\n",
              "Czech Republic  1992   72.400\n",
              "Czech Republic  1997   74.010\n",
              "Czech Republic  2002   75.510\n",
              "Czech Republic  2007   76.486"
            ],
            "text/html": [
              "\n",
              "  <div id=\"df-d5c0dd91-db82-4774-b2ff-1111c17a3f6b\" class=\"colab-df-container\">\n",
              "    <div>\n",
              "<style scoped>\n",
              "    .dataframe tbody tr th:only-of-type {\n",
              "        vertical-align: middle;\n",
              "    }\n",
              "\n",
              "    .dataframe tbody tr th {\n",
              "        vertical-align: top;\n",
              "    }\n",
              "\n",
              "    .dataframe thead th {\n",
              "        text-align: right;\n",
              "    }\n",
              "</style>\n",
              "<table border=\"1\" class=\"dataframe\">\n",
              "  <thead>\n",
              "    <tr style=\"text-align: right;\">\n",
              "      <th></th>\n",
              "      <th>year</th>\n",
              "      <th>lifeExp</th>\n",
              "    </tr>\n",
              "    <tr>\n",
              "      <th>country</th>\n",
              "      <th></th>\n",
              "      <th></th>\n",
              "    </tr>\n",
              "  </thead>\n",
              "  <tbody>\n",
              "    <tr>\n",
              "      <th>Czech Republic</th>\n",
              "      <td>1952</td>\n",
              "      <td>66.870</td>\n",
              "    </tr>\n",
              "    <tr>\n",
              "      <th>Czech Republic</th>\n",
              "      <td>1957</td>\n",
              "      <td>69.030</td>\n",
              "    </tr>\n",
              "    <tr>\n",
              "      <th>Czech Republic</th>\n",
              "      <td>1962</td>\n",
              "      <td>69.900</td>\n",
              "    </tr>\n",
              "    <tr>\n",
              "      <th>Czech Republic</th>\n",
              "      <td>1967</td>\n",
              "      <td>70.380</td>\n",
              "    </tr>\n",
              "    <tr>\n",
              "      <th>Czech Republic</th>\n",
              "      <td>1972</td>\n",
              "      <td>70.290</td>\n",
              "    </tr>\n",
              "    <tr>\n",
              "      <th>Czech Republic</th>\n",
              "      <td>1977</td>\n",
              "      <td>70.710</td>\n",
              "    </tr>\n",
              "    <tr>\n",
              "      <th>Czech Republic</th>\n",
              "      <td>1982</td>\n",
              "      <td>70.960</td>\n",
              "    </tr>\n",
              "    <tr>\n",
              "      <th>Czech Republic</th>\n",
              "      <td>1987</td>\n",
              "      <td>71.580</td>\n",
              "    </tr>\n",
              "    <tr>\n",
              "      <th>Czech Republic</th>\n",
              "      <td>1992</td>\n",
              "      <td>72.400</td>\n",
              "    </tr>\n",
              "    <tr>\n",
              "      <th>Czech Republic</th>\n",
              "      <td>1997</td>\n",
              "      <td>74.010</td>\n",
              "    </tr>\n",
              "    <tr>\n",
              "      <th>Czech Republic</th>\n",
              "      <td>2002</td>\n",
              "      <td>75.510</td>\n",
              "    </tr>\n",
              "    <tr>\n",
              "      <th>Czech Republic</th>\n",
              "      <td>2007</td>\n",
              "      <td>76.486</td>\n",
              "    </tr>\n",
              "  </tbody>\n",
              "</table>\n",
              "</div>\n",
              "    <div class=\"colab-df-buttons\">\n",
              "\n",
              "  <div class=\"colab-df-container\">\n",
              "    <button class=\"colab-df-convert\" onclick=\"convertToInteractive('df-d5c0dd91-db82-4774-b2ff-1111c17a3f6b')\"\n",
              "            title=\"Convert this dataframe to an interactive table.\"\n",
              "            style=\"display:none;\">\n",
              "\n",
              "  <svg xmlns=\"http://www.w3.org/2000/svg\" height=\"24px\" viewBox=\"0 -960 960 960\">\n",
              "    <path d=\"M120-120v-720h720v720H120Zm60-500h600v-160H180v160Zm220 220h160v-160H400v160Zm0 220h160v-160H400v160ZM180-400h160v-160H180v160Zm440 0h160v-160H620v160ZM180-180h160v-160H180v160Zm440 0h160v-160H620v160Z\"/>\n",
              "  </svg>\n",
              "    </button>\n",
              "\n",
              "  <style>\n",
              "    .colab-df-container {\n",
              "      display:flex;\n",
              "      gap: 12px;\n",
              "    }\n",
              "\n",
              "    .colab-df-convert {\n",
              "      background-color: #E8F0FE;\n",
              "      border: none;\n",
              "      border-radius: 50%;\n",
              "      cursor: pointer;\n",
              "      display: none;\n",
              "      fill: #1967D2;\n",
              "      height: 32px;\n",
              "      padding: 0 0 0 0;\n",
              "      width: 32px;\n",
              "    }\n",
              "\n",
              "    .colab-df-convert:hover {\n",
              "      background-color: #E2EBFA;\n",
              "      box-shadow: 0px 1px 2px rgba(60, 64, 67, 0.3), 0px 1px 3px 1px rgba(60, 64, 67, 0.15);\n",
              "      fill: #174EA6;\n",
              "    }\n",
              "\n",
              "    .colab-df-buttons div {\n",
              "      margin-bottom: 4px;\n",
              "    }\n",
              "\n",
              "    [theme=dark] .colab-df-convert {\n",
              "      background-color: #3B4455;\n",
              "      fill: #D2E3FC;\n",
              "    }\n",
              "\n",
              "    [theme=dark] .colab-df-convert:hover {\n",
              "      background-color: #434B5C;\n",
              "      box-shadow: 0px 1px 3px 1px rgba(0, 0, 0, 0.15);\n",
              "      filter: drop-shadow(0px 1px 2px rgba(0, 0, 0, 0.3));\n",
              "      fill: #FFFFFF;\n",
              "    }\n",
              "  </style>\n",
              "\n",
              "    <script>\n",
              "      const buttonEl =\n",
              "        document.querySelector('#df-d5c0dd91-db82-4774-b2ff-1111c17a3f6b button.colab-df-convert');\n",
              "      buttonEl.style.display =\n",
              "        google.colab.kernel.accessAllowed ? 'block' : 'none';\n",
              "\n",
              "      async function convertToInteractive(key) {\n",
              "        const element = document.querySelector('#df-d5c0dd91-db82-4774-b2ff-1111c17a3f6b');\n",
              "        const dataTable =\n",
              "          await google.colab.kernel.invokeFunction('convertToInteractive',\n",
              "                                                    [key], {});\n",
              "        if (!dataTable) return;\n",
              "\n",
              "        const docLinkHtml = 'Like what you see? Visit the ' +\n",
              "          '<a target=\"_blank\" href=https://colab.research.google.com/notebooks/data_table.ipynb>data table notebook</a>'\n",
              "          + ' to learn more about interactive tables.';\n",
              "        element.innerHTML = '';\n",
              "        dataTable['output_type'] = 'display_data';\n",
              "        await google.colab.output.renderOutput(dataTable, element);\n",
              "        const docLink = document.createElement('div');\n",
              "        docLink.innerHTML = docLinkHtml;\n",
              "        element.appendChild(docLink);\n",
              "      }\n",
              "    </script>\n",
              "  </div>\n",
              "\n",
              "\n",
              "    <div id=\"df-7837dcb1-57bc-49a9-87d0-496f84461202\">\n",
              "      <button class=\"colab-df-quickchart\" onclick=\"quickchart('df-7837dcb1-57bc-49a9-87d0-496f84461202')\"\n",
              "                title=\"Suggest charts\"\n",
              "                style=\"display:none;\">\n",
              "\n",
              "<svg xmlns=\"http://www.w3.org/2000/svg\" height=\"24px\"viewBox=\"0 0 24 24\"\n",
              "     width=\"24px\">\n",
              "    <g>\n",
              "        <path d=\"M19 3H5c-1.1 0-2 .9-2 2v14c0 1.1.9 2 2 2h14c1.1 0 2-.9 2-2V5c0-1.1-.9-2-2-2zM9 17H7v-7h2v7zm4 0h-2V7h2v10zm4 0h-2v-4h2v4z\"/>\n",
              "    </g>\n",
              "</svg>\n",
              "      </button>\n",
              "\n",
              "<style>\n",
              "  .colab-df-quickchart {\n",
              "      --bg-color: #E8F0FE;\n",
              "      --fill-color: #1967D2;\n",
              "      --hover-bg-color: #E2EBFA;\n",
              "      --hover-fill-color: #174EA6;\n",
              "      --disabled-fill-color: #AAA;\n",
              "      --disabled-bg-color: #DDD;\n",
              "  }\n",
              "\n",
              "  [theme=dark] .colab-df-quickchart {\n",
              "      --bg-color: #3B4455;\n",
              "      --fill-color: #D2E3FC;\n",
              "      --hover-bg-color: #434B5C;\n",
              "      --hover-fill-color: #FFFFFF;\n",
              "      --disabled-bg-color: #3B4455;\n",
              "      --disabled-fill-color: #666;\n",
              "  }\n",
              "\n",
              "  .colab-df-quickchart {\n",
              "    background-color: var(--bg-color);\n",
              "    border: none;\n",
              "    border-radius: 50%;\n",
              "    cursor: pointer;\n",
              "    display: none;\n",
              "    fill: var(--fill-color);\n",
              "    height: 32px;\n",
              "    padding: 0;\n",
              "    width: 32px;\n",
              "  }\n",
              "\n",
              "  .colab-df-quickchart:hover {\n",
              "    background-color: var(--hover-bg-color);\n",
              "    box-shadow: 0 1px 2px rgba(60, 64, 67, 0.3), 0 1px 3px 1px rgba(60, 64, 67, 0.15);\n",
              "    fill: var(--button-hover-fill-color);\n",
              "  }\n",
              "\n",
              "  .colab-df-quickchart-complete:disabled,\n",
              "  .colab-df-quickchart-complete:disabled:hover {\n",
              "    background-color: var(--disabled-bg-color);\n",
              "    fill: var(--disabled-fill-color);\n",
              "    box-shadow: none;\n",
              "  }\n",
              "\n",
              "  .colab-df-spinner {\n",
              "    border: 2px solid var(--fill-color);\n",
              "    border-color: transparent;\n",
              "    border-bottom-color: var(--fill-color);\n",
              "    animation:\n",
              "      spin 1s steps(1) infinite;\n",
              "  }\n",
              "\n",
              "  @keyframes spin {\n",
              "    0% {\n",
              "      border-color: transparent;\n",
              "      border-bottom-color: var(--fill-color);\n",
              "      border-left-color: var(--fill-color);\n",
              "    }\n",
              "    20% {\n",
              "      border-color: transparent;\n",
              "      border-left-color: var(--fill-color);\n",
              "      border-top-color: var(--fill-color);\n",
              "    }\n",
              "    30% {\n",
              "      border-color: transparent;\n",
              "      border-left-color: var(--fill-color);\n",
              "      border-top-color: var(--fill-color);\n",
              "      border-right-color: var(--fill-color);\n",
              "    }\n",
              "    40% {\n",
              "      border-color: transparent;\n",
              "      border-right-color: var(--fill-color);\n",
              "      border-top-color: var(--fill-color);\n",
              "    }\n",
              "    60% {\n",
              "      border-color: transparent;\n",
              "      border-right-color: var(--fill-color);\n",
              "    }\n",
              "    80% {\n",
              "      border-color: transparent;\n",
              "      border-right-color: var(--fill-color);\n",
              "      border-bottom-color: var(--fill-color);\n",
              "    }\n",
              "    90% {\n",
              "      border-color: transparent;\n",
              "      border-bottom-color: var(--fill-color);\n",
              "    }\n",
              "  }\n",
              "</style>\n",
              "\n",
              "      <script>\n",
              "        async function quickchart(key) {\n",
              "          const quickchartButtonEl =\n",
              "            document.querySelector('#' + key + ' button');\n",
              "          quickchartButtonEl.disabled = true;  // To prevent multiple clicks.\n",
              "          quickchartButtonEl.classList.add('colab-df-spinner');\n",
              "          try {\n",
              "            const charts = await google.colab.kernel.invokeFunction(\n",
              "                'suggestCharts', [key], {});\n",
              "          } catch (error) {\n",
              "            console.error('Error during call to suggestCharts:', error);\n",
              "          }\n",
              "          quickchartButtonEl.classList.remove('colab-df-spinner');\n",
              "          quickchartButtonEl.classList.add('colab-df-quickchart-complete');\n",
              "        }\n",
              "        (() => {\n",
              "          let quickchartButtonEl =\n",
              "            document.querySelector('#df-7837dcb1-57bc-49a9-87d0-496f84461202 button');\n",
              "          quickchartButtonEl.style.display =\n",
              "            google.colab.kernel.accessAllowed ? 'block' : 'none';\n",
              "        })();\n",
              "      </script>\n",
              "    </div>\n",
              "\n",
              "    </div>\n",
              "  </div>\n"
            ],
            "application/vnd.google.colaboratory.intrinsic+json": {
              "type": "dataframe",
              "summary": "{\n  \"name\": \"df\",\n  \"rows\": 12,\n  \"fields\": [\n    {\n      \"column\": \"country\",\n      \"properties\": {\n        \"dtype\": \"category\",\n        \"num_unique_values\": 1,\n        \"samples\": [\n          \"Czech Republic\"\n        ],\n        \"semantic_type\": \"\",\n        \"description\": \"\"\n      }\n    },\n    {\n      \"column\": \"year\",\n      \"properties\": {\n        \"dtype\": \"number\",\n        \"std\": 18,\n        \"min\": 1952,\n        \"max\": 2007,\n        \"num_unique_values\": 12,\n        \"samples\": [\n          2002\n        ],\n        \"semantic_type\": \"\",\n        \"description\": \"\"\n      }\n    },\n    {\n      \"column\": \"lifeExp\",\n      \"properties\": {\n        \"dtype\": \"number\",\n        \"std\": 2.726760865602597,\n        \"min\": 66.87,\n        \"max\": 76.486,\n        \"num_unique_values\": 12,\n        \"samples\": [\n          75.51\n        ],\n        \"semantic_type\": \"\",\n        \"description\": \"\"\n      }\n    }\n  ]\n}"
            }
          },
          "metadata": {},
          "execution_count": 69
        }
      ],
      "source": [
        "df.loc['Czech Republic']\n",
        "df.loc['Czech Republic', ['year', 'lifeExp']]"
      ]
    },
    {
      "cell_type": "markdown",
      "metadata": {
        "id": "RZXMvdgz1Wy0"
      },
      "source": [
        "3) Print the value in the third row, second column.\n",
        "\n",
        "*Expected output*: 31.997"
      ]
    },
    {
      "cell_type": "code",
      "execution_count": 78,
      "metadata": {
        "id": "a6H8AnMd0IhU",
        "colab": {
          "base_uri": "https://localhost:8080/"
        },
        "outputId": "2f150ffa-a745-4432-f4ac-b4cf985515da"
      },
      "outputs": [
        {
          "output_type": "execute_result",
          "data": {
            "text/plain": [
              "np.float64(31.997)"
            ]
          },
          "metadata": {},
          "execution_count": 78
        }
      ],
      "source": [
        "df.iloc[2, 3]"
      ]
    },
    {
      "cell_type": "markdown",
      "metadata": {
        "id": "VijNF6ia2E3W"
      },
      "source": [
        "4) Print all information from the year 2007."
      ]
    },
    {
      "cell_type": "code",
      "execution_count": 80,
      "metadata": {
        "id": "h_2DJGP426Op",
        "colab": {
          "base_uri": "https://localhost:8080/",
          "height": 455
        },
        "outputId": "d313a06f-2971-4b4c-c6dd-9bc072af03b9"
      },
      "outputs": [
        {
          "output_type": "execute_result",
          "data": {
            "text/plain": [
              "                    year         pop continent  lifeExp     gdpPercap\n",
              "country                                                              \n",
              "Afghanistan         2007  31889923.0      Asia   43.828    974.580338\n",
              "Albania             2007   3600523.0    Europe   76.423   5937.029526\n",
              "Algeria             2007  33333216.0    Africa   72.301   6223.367465\n",
              "Angola              2007  12420476.0    Africa   42.731   4797.231267\n",
              "Argentina           2007  40301927.0  Americas   75.320  12779.379640\n",
              "...                  ...         ...       ...      ...           ...\n",
              "Vietnam             2007  85262356.0      Asia   74.249   2441.576404\n",
              "West Bank and Gaza  2007   4018332.0      Asia   73.422   3025.349798\n",
              "Yemen Rep.          2007  22211743.0      Asia   62.698   2280.769906\n",
              "Zambia              2007  11746035.0    Africa   42.384   1271.211593\n",
              "Zimbabwe            2007  12311143.0    Africa   43.487    469.709298\n",
              "\n",
              "[142 rows x 5 columns]"
            ],
            "text/html": [
              "\n",
              "  <div id=\"df-02ac3080-1037-4c22-ba26-59ae42225cd9\" class=\"colab-df-container\">\n",
              "    <div>\n",
              "<style scoped>\n",
              "    .dataframe tbody tr th:only-of-type {\n",
              "        vertical-align: middle;\n",
              "    }\n",
              "\n",
              "    .dataframe tbody tr th {\n",
              "        vertical-align: top;\n",
              "    }\n",
              "\n",
              "    .dataframe thead th {\n",
              "        text-align: right;\n",
              "    }\n",
              "</style>\n",
              "<table border=\"1\" class=\"dataframe\">\n",
              "  <thead>\n",
              "    <tr style=\"text-align: right;\">\n",
              "      <th></th>\n",
              "      <th>year</th>\n",
              "      <th>pop</th>\n",
              "      <th>continent</th>\n",
              "      <th>lifeExp</th>\n",
              "      <th>gdpPercap</th>\n",
              "    </tr>\n",
              "    <tr>\n",
              "      <th>country</th>\n",
              "      <th></th>\n",
              "      <th></th>\n",
              "      <th></th>\n",
              "      <th></th>\n",
              "      <th></th>\n",
              "    </tr>\n",
              "  </thead>\n",
              "  <tbody>\n",
              "    <tr>\n",
              "      <th>Afghanistan</th>\n",
              "      <td>2007</td>\n",
              "      <td>31889923.0</td>\n",
              "      <td>Asia</td>\n",
              "      <td>43.828</td>\n",
              "      <td>974.580338</td>\n",
              "    </tr>\n",
              "    <tr>\n",
              "      <th>Albania</th>\n",
              "      <td>2007</td>\n",
              "      <td>3600523.0</td>\n",
              "      <td>Europe</td>\n",
              "      <td>76.423</td>\n",
              "      <td>5937.029526</td>\n",
              "    </tr>\n",
              "    <tr>\n",
              "      <th>Algeria</th>\n",
              "      <td>2007</td>\n",
              "      <td>33333216.0</td>\n",
              "      <td>Africa</td>\n",
              "      <td>72.301</td>\n",
              "      <td>6223.367465</td>\n",
              "    </tr>\n",
              "    <tr>\n",
              "      <th>Angola</th>\n",
              "      <td>2007</td>\n",
              "      <td>12420476.0</td>\n",
              "      <td>Africa</td>\n",
              "      <td>42.731</td>\n",
              "      <td>4797.231267</td>\n",
              "    </tr>\n",
              "    <tr>\n",
              "      <th>Argentina</th>\n",
              "      <td>2007</td>\n",
              "      <td>40301927.0</td>\n",
              "      <td>Americas</td>\n",
              "      <td>75.320</td>\n",
              "      <td>12779.379640</td>\n",
              "    </tr>\n",
              "    <tr>\n",
              "      <th>...</th>\n",
              "      <td>...</td>\n",
              "      <td>...</td>\n",
              "      <td>...</td>\n",
              "      <td>...</td>\n",
              "      <td>...</td>\n",
              "    </tr>\n",
              "    <tr>\n",
              "      <th>Vietnam</th>\n",
              "      <td>2007</td>\n",
              "      <td>85262356.0</td>\n",
              "      <td>Asia</td>\n",
              "      <td>74.249</td>\n",
              "      <td>2441.576404</td>\n",
              "    </tr>\n",
              "    <tr>\n",
              "      <th>West Bank and Gaza</th>\n",
              "      <td>2007</td>\n",
              "      <td>4018332.0</td>\n",
              "      <td>Asia</td>\n",
              "      <td>73.422</td>\n",
              "      <td>3025.349798</td>\n",
              "    </tr>\n",
              "    <tr>\n",
              "      <th>Yemen Rep.</th>\n",
              "      <td>2007</td>\n",
              "      <td>22211743.0</td>\n",
              "      <td>Asia</td>\n",
              "      <td>62.698</td>\n",
              "      <td>2280.769906</td>\n",
              "    </tr>\n",
              "    <tr>\n",
              "      <th>Zambia</th>\n",
              "      <td>2007</td>\n",
              "      <td>11746035.0</td>\n",
              "      <td>Africa</td>\n",
              "      <td>42.384</td>\n",
              "      <td>1271.211593</td>\n",
              "    </tr>\n",
              "    <tr>\n",
              "      <th>Zimbabwe</th>\n",
              "      <td>2007</td>\n",
              "      <td>12311143.0</td>\n",
              "      <td>Africa</td>\n",
              "      <td>43.487</td>\n",
              "      <td>469.709298</td>\n",
              "    </tr>\n",
              "  </tbody>\n",
              "</table>\n",
              "<p>142 rows × 5 columns</p>\n",
              "</div>\n",
              "    <div class=\"colab-df-buttons\">\n",
              "\n",
              "  <div class=\"colab-df-container\">\n",
              "    <button class=\"colab-df-convert\" onclick=\"convertToInteractive('df-02ac3080-1037-4c22-ba26-59ae42225cd9')\"\n",
              "            title=\"Convert this dataframe to an interactive table.\"\n",
              "            style=\"display:none;\">\n",
              "\n",
              "  <svg xmlns=\"http://www.w3.org/2000/svg\" height=\"24px\" viewBox=\"0 -960 960 960\">\n",
              "    <path d=\"M120-120v-720h720v720H120Zm60-500h600v-160H180v160Zm220 220h160v-160H400v160Zm0 220h160v-160H400v160ZM180-400h160v-160H180v160Zm440 0h160v-160H620v160ZM180-180h160v-160H180v160Zm440 0h160v-160H620v160Z\"/>\n",
              "  </svg>\n",
              "    </button>\n",
              "\n",
              "  <style>\n",
              "    .colab-df-container {\n",
              "      display:flex;\n",
              "      gap: 12px;\n",
              "    }\n",
              "\n",
              "    .colab-df-convert {\n",
              "      background-color: #E8F0FE;\n",
              "      border: none;\n",
              "      border-radius: 50%;\n",
              "      cursor: pointer;\n",
              "      display: none;\n",
              "      fill: #1967D2;\n",
              "      height: 32px;\n",
              "      padding: 0 0 0 0;\n",
              "      width: 32px;\n",
              "    }\n",
              "\n",
              "    .colab-df-convert:hover {\n",
              "      background-color: #E2EBFA;\n",
              "      box-shadow: 0px 1px 2px rgba(60, 64, 67, 0.3), 0px 1px 3px 1px rgba(60, 64, 67, 0.15);\n",
              "      fill: #174EA6;\n",
              "    }\n",
              "\n",
              "    .colab-df-buttons div {\n",
              "      margin-bottom: 4px;\n",
              "    }\n",
              "\n",
              "    [theme=dark] .colab-df-convert {\n",
              "      background-color: #3B4455;\n",
              "      fill: #D2E3FC;\n",
              "    }\n",
              "\n",
              "    [theme=dark] .colab-df-convert:hover {\n",
              "      background-color: #434B5C;\n",
              "      box-shadow: 0px 1px 3px 1px rgba(0, 0, 0, 0.15);\n",
              "      filter: drop-shadow(0px 1px 2px rgba(0, 0, 0, 0.3));\n",
              "      fill: #FFFFFF;\n",
              "    }\n",
              "  </style>\n",
              "\n",
              "    <script>\n",
              "      const buttonEl =\n",
              "        document.querySelector('#df-02ac3080-1037-4c22-ba26-59ae42225cd9 button.colab-df-convert');\n",
              "      buttonEl.style.display =\n",
              "        google.colab.kernel.accessAllowed ? 'block' : 'none';\n",
              "\n",
              "      async function convertToInteractive(key) {\n",
              "        const element = document.querySelector('#df-02ac3080-1037-4c22-ba26-59ae42225cd9');\n",
              "        const dataTable =\n",
              "          await google.colab.kernel.invokeFunction('convertToInteractive',\n",
              "                                                    [key], {});\n",
              "        if (!dataTable) return;\n",
              "\n",
              "        const docLinkHtml = 'Like what you see? Visit the ' +\n",
              "          '<a target=\"_blank\" href=https://colab.research.google.com/notebooks/data_table.ipynb>data table notebook</a>'\n",
              "          + ' to learn more about interactive tables.';\n",
              "        element.innerHTML = '';\n",
              "        dataTable['output_type'] = 'display_data';\n",
              "        await google.colab.output.renderOutput(dataTable, element);\n",
              "        const docLink = document.createElement('div');\n",
              "        docLink.innerHTML = docLinkHtml;\n",
              "        element.appendChild(docLink);\n",
              "      }\n",
              "    </script>\n",
              "  </div>\n",
              "\n",
              "\n",
              "    <div id=\"df-3c2e85fc-c78f-4b8f-be10-117fead9161d\">\n",
              "      <button class=\"colab-df-quickchart\" onclick=\"quickchart('df-3c2e85fc-c78f-4b8f-be10-117fead9161d')\"\n",
              "                title=\"Suggest charts\"\n",
              "                style=\"display:none;\">\n",
              "\n",
              "<svg xmlns=\"http://www.w3.org/2000/svg\" height=\"24px\"viewBox=\"0 0 24 24\"\n",
              "     width=\"24px\">\n",
              "    <g>\n",
              "        <path d=\"M19 3H5c-1.1 0-2 .9-2 2v14c0 1.1.9 2 2 2h14c1.1 0 2-.9 2-2V5c0-1.1-.9-2-2-2zM9 17H7v-7h2v7zm4 0h-2V7h2v10zm4 0h-2v-4h2v4z\"/>\n",
              "    </g>\n",
              "</svg>\n",
              "      </button>\n",
              "\n",
              "<style>\n",
              "  .colab-df-quickchart {\n",
              "      --bg-color: #E8F0FE;\n",
              "      --fill-color: #1967D2;\n",
              "      --hover-bg-color: #E2EBFA;\n",
              "      --hover-fill-color: #174EA6;\n",
              "      --disabled-fill-color: #AAA;\n",
              "      --disabled-bg-color: #DDD;\n",
              "  }\n",
              "\n",
              "  [theme=dark] .colab-df-quickchart {\n",
              "      --bg-color: #3B4455;\n",
              "      --fill-color: #D2E3FC;\n",
              "      --hover-bg-color: #434B5C;\n",
              "      --hover-fill-color: #FFFFFF;\n",
              "      --disabled-bg-color: #3B4455;\n",
              "      --disabled-fill-color: #666;\n",
              "  }\n",
              "\n",
              "  .colab-df-quickchart {\n",
              "    background-color: var(--bg-color);\n",
              "    border: none;\n",
              "    border-radius: 50%;\n",
              "    cursor: pointer;\n",
              "    display: none;\n",
              "    fill: var(--fill-color);\n",
              "    height: 32px;\n",
              "    padding: 0;\n",
              "    width: 32px;\n",
              "  }\n",
              "\n",
              "  .colab-df-quickchart:hover {\n",
              "    background-color: var(--hover-bg-color);\n",
              "    box-shadow: 0 1px 2px rgba(60, 64, 67, 0.3), 0 1px 3px 1px rgba(60, 64, 67, 0.15);\n",
              "    fill: var(--button-hover-fill-color);\n",
              "  }\n",
              "\n",
              "  .colab-df-quickchart-complete:disabled,\n",
              "  .colab-df-quickchart-complete:disabled:hover {\n",
              "    background-color: var(--disabled-bg-color);\n",
              "    fill: var(--disabled-fill-color);\n",
              "    box-shadow: none;\n",
              "  }\n",
              "\n",
              "  .colab-df-spinner {\n",
              "    border: 2px solid var(--fill-color);\n",
              "    border-color: transparent;\n",
              "    border-bottom-color: var(--fill-color);\n",
              "    animation:\n",
              "      spin 1s steps(1) infinite;\n",
              "  }\n",
              "\n",
              "  @keyframes spin {\n",
              "    0% {\n",
              "      border-color: transparent;\n",
              "      border-bottom-color: var(--fill-color);\n",
              "      border-left-color: var(--fill-color);\n",
              "    }\n",
              "    20% {\n",
              "      border-color: transparent;\n",
              "      border-left-color: var(--fill-color);\n",
              "      border-top-color: var(--fill-color);\n",
              "    }\n",
              "    30% {\n",
              "      border-color: transparent;\n",
              "      border-left-color: var(--fill-color);\n",
              "      border-top-color: var(--fill-color);\n",
              "      border-right-color: var(--fill-color);\n",
              "    }\n",
              "    40% {\n",
              "      border-color: transparent;\n",
              "      border-right-color: var(--fill-color);\n",
              "      border-top-color: var(--fill-color);\n",
              "    }\n",
              "    60% {\n",
              "      border-color: transparent;\n",
              "      border-right-color: var(--fill-color);\n",
              "    }\n",
              "    80% {\n",
              "      border-color: transparent;\n",
              "      border-right-color: var(--fill-color);\n",
              "      border-bottom-color: var(--fill-color);\n",
              "    }\n",
              "    90% {\n",
              "      border-color: transparent;\n",
              "      border-bottom-color: var(--fill-color);\n",
              "    }\n",
              "  }\n",
              "</style>\n",
              "\n",
              "      <script>\n",
              "        async function quickchart(key) {\n",
              "          const quickchartButtonEl =\n",
              "            document.querySelector('#' + key + ' button');\n",
              "          quickchartButtonEl.disabled = true;  // To prevent multiple clicks.\n",
              "          quickchartButtonEl.classList.add('colab-df-spinner');\n",
              "          try {\n",
              "            const charts = await google.colab.kernel.invokeFunction(\n",
              "                'suggestCharts', [key], {});\n",
              "          } catch (error) {\n",
              "            console.error('Error during call to suggestCharts:', error);\n",
              "          }\n",
              "          quickchartButtonEl.classList.remove('colab-df-spinner');\n",
              "          quickchartButtonEl.classList.add('colab-df-quickchart-complete');\n",
              "        }\n",
              "        (() => {\n",
              "          let quickchartButtonEl =\n",
              "            document.querySelector('#df-3c2e85fc-c78f-4b8f-be10-117fead9161d button');\n",
              "          quickchartButtonEl.style.display =\n",
              "            google.colab.kernel.accessAllowed ? 'block' : 'none';\n",
              "        })();\n",
              "      </script>\n",
              "    </div>\n",
              "\n",
              "    </div>\n",
              "  </div>\n"
            ],
            "application/vnd.google.colaboratory.intrinsic+json": {
              "type": "dataframe",
              "summary": "{\n  \"name\": \"df[df\",\n  \"rows\": 142,\n  \"fields\": [\n    {\n      \"column\": \"country\",\n      \"properties\": {\n        \"dtype\": \"string\",\n        \"num_unique_values\": 142,\n        \"samples\": [\n          \"Turkey\",\n          \"Cameroon\",\n          \"Mauritius\"\n        ],\n        \"semantic_type\": \"\",\n        \"description\": \"\"\n      }\n    },\n    {\n      \"column\": \"year\",\n      \"properties\": {\n        \"dtype\": \"number\",\n        \"std\": 0,\n        \"min\": 2007,\n        \"max\": 2007,\n        \"num_unique_values\": 1,\n        \"samples\": [\n          2007\n        ],\n        \"semantic_type\": \"\",\n        \"description\": \"\"\n      }\n    },\n    {\n      \"column\": \"pop\",\n      \"properties\": {\n        \"dtype\": \"number\",\n        \"std\": 147621397.90361592,\n        \"min\": 199579.0,\n        \"max\": 1318683096.0,\n        \"num_unique_values\": 142,\n        \"samples\": [\n          71158647.0\n        ],\n        \"semantic_type\": \"\",\n        \"description\": \"\"\n      }\n    },\n    {\n      \"column\": \"continent\",\n      \"properties\": {\n        \"dtype\": \"category\",\n        \"num_unique_values\": 5,\n        \"samples\": [\n          \"Europe\"\n        ],\n        \"semantic_type\": \"\",\n        \"description\": \"\"\n      }\n    },\n    {\n      \"column\": \"lifeExp\",\n      \"properties\": {\n        \"dtype\": \"number\",\n        \"std\": 12.07302050222512,\n        \"min\": 39.613,\n        \"max\": 82.603,\n        \"num_unique_values\": 142,\n        \"samples\": [\n          71.777\n        ],\n        \"semantic_type\": \"\",\n        \"description\": \"\"\n      }\n    },\n    {\n      \"column\": \"gdpPercap\",\n      \"properties\": {\n        \"dtype\": \"number\",\n        \"std\": 12859.937337422318,\n        \"min\": 277.5518587,\n        \"max\": 49357.19017,\n        \"num_unique_values\": 142,\n        \"samples\": [\n          8458.276384\n        ],\n        \"semantic_type\": \"\",\n        \"description\": \"\"\n      }\n    }\n  ]\n}"
            }
          },
          "metadata": {},
          "execution_count": 80
        }
      ],
      "source": [
        "df[df.year == 2007]"
      ]
    },
    {
      "cell_type": "markdown",
      "metadata": {
        "id": "X89vHlME20rr"
      },
      "source": [
        "5) Find the country with the largest GDP per capita in 2007."
      ]
    },
    {
      "cell_type": "code",
      "execution_count": 81,
      "metadata": {
        "id": "p_sJ9VJU1esy",
        "colab": {
          "base_uri": "https://localhost:8080/",
          "height": 35
        },
        "outputId": "737241c1-d756-4b5b-efc9-192d5bc5f173"
      },
      "outputs": [
        {
          "output_type": "execute_result",
          "data": {
            "text/plain": [
              "'Norway'"
            ],
            "application/vnd.google.colaboratory.intrinsic+json": {
              "type": "string"
            }
          },
          "metadata": {},
          "execution_count": 81
        }
      ],
      "source": [
        "df[df.year == 2007].sort_values(by = 'gdpPercap', ascending = False).index[0]"
      ]
    },
    {
      "cell_type": "markdown",
      "metadata": {
        "id": "7zAZeqvo2bg3"
      },
      "source": [
        "6) In the year 2007, calculate the average life expectancy per continent (ignore a population size)."
      ]
    },
    {
      "cell_type": "code",
      "execution_count": 83,
      "metadata": {
        "id": "CdtRrqsF2Alg",
        "colab": {
          "base_uri": "https://localhost:8080/",
          "height": 272
        },
        "outputId": "ea1ea86f-14e6-49e8-e523-5eaf74acf652"
      },
      "outputs": [
        {
          "output_type": "execute_result",
          "data": {
            "text/plain": [
              "continent\n",
              "Africa      54.806038\n",
              "Americas    73.608120\n",
              "Asia        70.728485\n",
              "Europe      77.648600\n",
              "Oceania     80.719500\n",
              "Name: lifeExp, dtype: float64"
            ],
            "text/html": [
              "<div>\n",
              "<style scoped>\n",
              "    .dataframe tbody tr th:only-of-type {\n",
              "        vertical-align: middle;\n",
              "    }\n",
              "\n",
              "    .dataframe tbody tr th {\n",
              "        vertical-align: top;\n",
              "    }\n",
              "\n",
              "    .dataframe thead th {\n",
              "        text-align: right;\n",
              "    }\n",
              "</style>\n",
              "<table border=\"1\" class=\"dataframe\">\n",
              "  <thead>\n",
              "    <tr style=\"text-align: right;\">\n",
              "      <th></th>\n",
              "      <th>lifeExp</th>\n",
              "    </tr>\n",
              "    <tr>\n",
              "      <th>continent</th>\n",
              "      <th></th>\n",
              "    </tr>\n",
              "  </thead>\n",
              "  <tbody>\n",
              "    <tr>\n",
              "      <th>Africa</th>\n",
              "      <td>54.806038</td>\n",
              "    </tr>\n",
              "    <tr>\n",
              "      <th>Americas</th>\n",
              "      <td>73.608120</td>\n",
              "    </tr>\n",
              "    <tr>\n",
              "      <th>Asia</th>\n",
              "      <td>70.728485</td>\n",
              "    </tr>\n",
              "    <tr>\n",
              "      <th>Europe</th>\n",
              "      <td>77.648600</td>\n",
              "    </tr>\n",
              "    <tr>\n",
              "      <th>Oceania</th>\n",
              "      <td>80.719500</td>\n",
              "    </tr>\n",
              "  </tbody>\n",
              "</table>\n",
              "</div><br><label><b>dtype:</b> float64</label>"
            ]
          },
          "metadata": {},
          "execution_count": 83
        }
      ],
      "source": [
        "df[df.year == 2007].groupby('continent').mean()['lifeExp']"
      ]
    },
    {
      "cell_type": "markdown",
      "metadata": {
        "id": "WGGdGlGH9-M_"
      },
      "source": [
        "## Acknowledgement\n",
        "\n",
        "In preparation of this notebook, I have used and adapted materials from [W3 Python Tutorial Exercises](https://www.w3resource.com/python-exercises/), [101 NumPy Exercises for Data Analysis](https://www.machinelearningplus.com/python/101-numpy-exercises-python/) and [Software Carpentry workshop Python for Novices](https://ucsbcarpentry.github.io/2019-10-10-Python-UCSB/08-data-frames/)."
      ]
    }
  ],
  "metadata": {
    "colab": {
      "provenance": [],
      "include_colab_link": true
    },
    "interpreter": {
      "hash": "d5d0f56697a7f1eacc7897c95719d70e9873bac1d291d364b9204c16c1724ce8"
    },
    "kernelspec": {
      "display_name": "Python 3.9.0 64-bit ('3.9.0': pyenv)",
      "name": "python3"
    },
    "language_info": {
      "name": "python",
      "version": ""
    }
  },
  "nbformat": 4,
  "nbformat_minor": 0
}